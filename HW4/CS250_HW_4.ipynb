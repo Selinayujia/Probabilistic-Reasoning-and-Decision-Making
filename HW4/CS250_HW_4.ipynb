{
 "cells": [
  {
   "cell_type": "code",
   "execution_count": 98,
   "id": "354aa1fd",
   "metadata": {},
   "outputs": [],
   "source": [
    "import collections\n",
    "\n",
    "count_uni = []\n",
    "vocab_uni = []\n",
    "vocab_index_count_lookup = {}\n",
    "vocab_count_bi = collections.defaultdict(dict) # key: wi, value: {wi+1:count wi }]\n",
    "\n",
    "f = open('hw4files/hw4_unigram.txt','r')\n",
    "for line in f:\n",
    "    count_uni.append(int(line.strip()))\n",
    "                     \n",
    "f.close()\n",
    "\n",
    "                     \n",
    "f = open('hw4files/hw4_vocab.txt','r')\n",
    "\n",
    "for line in f:\n",
    "    vocab_uni.append(line.strip())\n",
    "f.close()\n",
    "             \n",
    "\n",
    "for i, item in enumerate(zip(vocab_uni, count_uni)):\n",
    "    key = item[0]\n",
    "    value = item[1]\n",
    "    vocab_index_count_lookup[key] = (i, value)\n",
    "                     \n",
    "                     \n",
    "f = open('hw4files/hw4_bigram.txt','r')\n",
    "for line in f:\n",
    "    lst = line.strip().split('\\t')\n",
    "    w_i_ind = int(lst[0])\n",
    "    w_j_ind = int(lst[1])\n",
    "    w_j_follow_w_i_count = int(lst[2])\n",
    "    \n",
    "    \n",
    "    w_i = vocab_uni[w_i_ind-1]\n",
    "    w_j = vocab_uni[w_j_ind-1]\n",
    "    vocab_count_bi[w_i][w_j] = w_j_follow_w_i_count\n",
    "f.close()\n",
    "\n"
   ]
  },
  {
   "cell_type": "code",
   "execution_count": 126,
   "id": "5967f6d1",
   "metadata": {},
   "outputs": [
    {
     "name": "stdout",
     "output_type": "stream",
     "text": [
      "---------------  --------  ----------------------\n",
      "Index in bigram  Word      P_u_W\n",
      "54               MILLION   0.002072759168154815\n",
      "69               MORE      0.0017088989966186725\n",
      "77               MR.       0.0014416083492816956\n",
      "121              MOST      0.0007879173033190295\n",
      "122              MARKET    0.0007803712804681068\n",
      "126              MAY       0.0007298973156289532\n",
      "130              M.        0.0007034067394618568\n",
      "131              MANY      0.0006967290595970209\n",
      "159              MADE      0.0005598610827336895\n",
      "178              MUCH      0.0005145971758110562\n",
      "180              MAKE      0.0005144626437991272\n",
      "203              MONTH     0.00044490959363187093\n",
      "209              MONEY     0.00043710673693999306\n",
      "227              MONTHS    0.0004057607781605526\n",
      "230              MY        0.0004003183467688823\n",
      "247              MONDAY    0.00038198530259784006\n",
      "256              MAJOR     0.00037089252670515475\n",
      "275              MILITARY  0.00035204581485220204\n",
      "287              MEMBERS   0.00033606096579846475\n",
      "356              MIGHT     0.00027358919153183117\n",
      "366              MEETING   0.0002657374141083427\n",
      "370              MUST      0.0002665079156312084\n",
      "374              ME        0.00026357267173457725\n",
      "375              MARCH     0.0002597935452176646\n",
      "385              MAN       0.0002528834918776787\n",
      "403              MS.       0.0002389900041002911\n",
      "404              MINISTER  0.00023977273580605944\n",
      "460              MAKING    0.00021170446604452378\n",
      "473              MOVE      0.0002099555498894477\n",
      "479              MILES     0.00020596851026319035\n",
      "---------------  --------  ----------------------\n"
     ]
    }
   ],
   "source": [
    "#4.3.a\n",
    "from tabulate import tabulate\n",
    "T = sum(count_uni)\n",
    "rows =  [[vocab_index_count_lookup[key][0]+1, key, vocab_index_count_lookup[key][1]/T ] \\\n",
    "         for key in vocab_index_count_lookup if key[0].upper() == 'M']\n",
    "rows.insert(0, ['Index in bigram', 'Word', 'P_u_W'])\n",
    "print(tabulate(rows))\n",
    "\n"
   ]
  },
  {
   "cell_type": "code",
   "execution_count": 100,
   "id": "eefa72c2",
   "metadata": {},
   "outputs": [
    {
     "name": "stdout",
     "output_type": "stream",
     "text": [
      "-----------------  ----------  ---  ----------  -------  --------------------\n",
      "w Index in bigram  w'          w    count_w'|w  count_w  P_w'|w\n",
      "1                  <UNK>       THE  2371132     3855375  0.6150198100055118\n",
      "70                 U.          THE  51556       3855375  0.013372499432610317\n",
      "79                 FIRST       THE  45186       3855375  0.011720260675031612\n",
      "73                 COMPANY     THE  44949       3855375  0.011658788055636611\n",
      "61                 NEW         THE  36439       3855375  0.009451480076516552\n",
      "184                UNITED      THE  33435       3855375  0.008672308141231398\n",
      "103                GOVERNMENT  THE  26230       3855375  0.006803488635995202\n",
      "39                 NINETEEN    THE  25641       3855375  0.006650714911000876\n",
      "308                SAME        THE  24239       3855375  0.006287066757449016\n",
      "23                 TWO         THE  23752       3855375  0.006160749602827221\n",
      "-----------------  ----------  ---  ----------  -------  --------------------\n"
     ]
    }
   ],
   "source": [
    "#4.3.b\n",
    "\n",
    "countW_given_w = [(key,  vocab_count_bi['THE'][key]) for key in vocab_count_bi['THE']]\n",
    "sum_count = sum([item[1] for item in countW_given_w])\n",
    "rows = sorted([[vocab_index_count_lookup[w][0]+1, w, 'THE', count, sum_count, count/sum_count] \\\n",
    "               for w, count in countW_given_w], reverse=True, key= lambda x: x[-1])[:10]\n",
    "rows.insert(0, ['w Index in bigram', \"w'\", 'w', \"count_w'|w\", \"count_w\", \"P_w'|w\"])\n",
    "print(tabulate(rows))\n",
    "\n"
   ]
  },
  {
   "cell_type": "code",
   "execution_count": 101,
   "id": "6474302f",
   "metadata": {},
   "outputs": [
    {
     "name": "stdout",
     "output_type": "stream",
     "text": [
      "-64.50944034364878\n",
      "-40.91813213378977\n"
     ]
    }
   ],
   "source": [
    "#4.3 c\n",
    "count_w = {}\n",
    "for parent in vocab_count_bi:\n",
    "    count_w[parent] = sum([vocab_count_bi[parent][child] for child in vocab_count_bi[parent]])\n",
    "\n",
    "import math\n",
    "sentence = \"The stock market fell by one hundred points last week\"\n",
    "sentence = sentence.upper()\n",
    "s_lst = sentence.split(' ')\n",
    "\n",
    "pu = 1\n",
    "for key in s_lst:\n",
    "    pu *= vocab_index_count_lookup[key][1]/T\n",
    "Lu = math.log(pu)\n",
    "\n",
    "s_lst.insert(0, '<s>')\n",
    "pb = 1\n",
    "for i in range(1, len(s_lst)):\n",
    "    prev = s_lst[i-1]\n",
    "    curr = s_lst[i]\n",
    "    pb *= (vocab_count_bi[prev][curr]/count_w[prev])\n",
    "Lb = math.log(pb)\n",
    "\n",
    "print(Lu)\n",
    "print(Lb)\n"
   ]
  },
  {
   "cell_type": "code",
   "execution_count": 102,
   "id": "1083c3e2",
   "metadata": {},
   "outputs": [
    {
     "name": "stdout",
     "output_type": "stream",
     "text": [
      "The pair of adjacent words not observed in the data is SIXTEEN followed by OFFICIALS\n",
      "The pair of adjacent words not observed in the data is SOLD followed by FIRE\n",
      "-44.291934473132606\n",
      "UNDEFINED\n"
     ]
    }
   ],
   "source": [
    "#4.3 d\n",
    "sentence = \"The sixteen officials sold fire insurance\"\n",
    "sentence = sentence.upper()\n",
    "s_lst = sentence.split(' ')\n",
    "\n",
    "pu = 1\n",
    "for key in s_lst:\n",
    "    pu *= vocab_index_count_lookup[key][1]/T\n",
    "Lu = math.log(pu)\n",
    "\n",
    "s_lst.insert(0, '<s>')\n",
    "pb = 1\n",
    "for i in range(1, len(s_lst)):\n",
    "    prev = s_lst[i-1]\n",
    "    curr = s_lst[i]\n",
    "    try:\n",
    "        pb *= (vocab_count_bi[prev][curr]/count_w[prev])\n",
    "    except:\n",
    "        print(f'The pair of adjacent words not observed in the data is {prev} followed by {curr}')\n",
    "        pb = 0\n",
    "try:\n",
    "    Lb = math.log(pb)\n",
    "except:\n",
    "    Lb = 'UNDEFINED'\n",
    "    \n",
    "print(Lu)\n",
    "print(Lb)\n"
   ]
  },
  {
   "cell_type": "code",
   "execution_count": 103,
   "id": "b11a77a2",
   "metadata": {},
   "outputs": [
    {
     "data": {
      "image/png": "[encoded data removed]",
      "text/plain": [
       "<Figure size 432x288 with 1 Axes>"
      ]
     },
     "metadata": {
      "needs_background": "light"
     },
     "output_type": "display_data"
    },
    {
     "name": "stdout",
     "output_type": "stream",
     "text": [
      "The lambda value maximize P_M is 0.6500000000000004\n"
     ]
    }
   ],
   "source": [
    "#4.3 e\n",
    "sentence = \"The sixteen officials sold fire insurance\"\n",
    "sentence = sentence.upper()\n",
    "s_lst = sentence.split(' ')\n",
    "pu = []\n",
    "for key in s_lst:\n",
    "    pu.append(vocab_index_count_lookup[key][1]/T)\n",
    "\n",
    "s_lst.insert(0, '<s>')\n",
    "pb = []\n",
    "for i in range(1, len(s_lst)):\n",
    "    prev = s_lst[i-1]\n",
    "    curr = s_lst[i]\n",
    "    try:\n",
    "        pb.append(vocab_count_bi[prev][curr]/count_w[prev])\n",
    "    except:\n",
    "        pb.append(0)\n",
    "l = 0\n",
    "l_step_val = 0.01\n",
    "pm = []\n",
    "lm = []\n",
    "l_lst = []\n",
    "while l <= 1:\n",
    "    l_lst.append(l)\n",
    "    m = math.prod([(l*u) + ((1-l)*b) for u, b in zip(pu, pb)])\n",
    "    pm.append(m)\n",
    "    lm.append(math.log(m)) if m!=0 else lm.append(None)\n",
    "    l += l_step_val\n",
    "        \n",
    "import matplotlib.pyplot as plt\n",
    "plt.plot(l_lst, lm)\n",
    "plt.xlabel('Lambda')\n",
    "plt.ylabel('L_M')\n",
    "plt.show()\n",
    "print(f'The lambda value maximize P_M is {l_lst[pm.index(max(pm))]}')"
   ]
  },
  {
   "cell_type": "code",
   "execution_count": 121,
   "id": "f7370b33",
   "metadata": {},
   "outputs": [
    {
     "name": "stdout",
     "output_type": "stream",
     "text": [
      "[0.03189569 0.01560133 0.95067337]\n"
     ]
    }
   ],
   "source": [
    "#4.4a\n",
    "import numpy as np\n",
    "data_00 = []\n",
    "data_01 = []\n",
    "\n",
    "f = open('hw4files/nasdaq00.txt','r')\n",
    "for line in f:\n",
    "    data_00.append(float(line.strip()))       \n",
    "f.close()\n",
    "\n",
    "                     \n",
    "f = open('hw4files/nasdaq01.txt','r')\n",
    "for line in f:\n",
    "    data_01.append(float(line.strip()))       \n",
    "f.close()\n",
    "\n",
    "x = np.array([[data_00[i], data_00[i+1],data_00[i+2]] for i in range(0, len(data_00)-3)])\n",
    "y = np.array(data_00[3:])\n",
    "\n",
    "from numpy.linalg import inv\n",
    "X_dot_X_T = np.dot(x.T,x)\n",
    "X_T_dot_Y = np.dot(x.T,y)\n",
    "alphas = np.dot(inv(X_dot_X_T),X_T_dot_Y )\n",
    "print(alphas)\n"
   ]
  },
  {
   "cell_type": "code",
   "execution_count": 125,
   "id": "f57ee400",
   "metadata": {},
   "outputs": [
    {
     "name": "stdout",
     "output_type": "stream",
     "text": [
      "117.9084436177829\n",
      "54.63604967520658\n"
     ]
    }
   ],
   "source": [
    "#4.4b\n",
    "x_test = np.array([[data_01[i], data_01[i+1],data_01[i+2]] for i in range(0, len(data_01)-3)])\n",
    "y_test = np.array(data_01[3:])\n",
    "\n",
    "\n",
    "rmse_00 = np.sqrt(np.square(np.subtract(y,np.dot(x,alphas))).mean())\n",
    "print(rmse_00)\n",
    "\n",
    "rmse_01 = np.sqrt(np.square(np.subtract(y_test,np.dot(x_test,alphas))).mean())\n",
    "print(rmse_01)"
   ]
  },
  {
   "cell_type": "code",
   "execution_count": null,
   "id": "3ef339ba",
   "metadata": {},
   "outputs": [],
   "source": []
  }
 ],
 "metadata": {
  "kernelspec": {
   "display_name": "Python 3 (ipykernel)",
   "language": "python",
   "name": "python3"
  },
  "language_info": {
   "codemirror_mode": {
    "name": "ipython",
    "version": 3
   },
   "file_extension": ".py",
   "mimetype": "text/x-python",
   "name": "python",
   "nbconvert_exporter": "python",
   "pygments_lexer": "ipython3",
   "version": "3.9.12"
  }
 },
 "nbformat": 4,
 "nbformat_minor": 5
}
