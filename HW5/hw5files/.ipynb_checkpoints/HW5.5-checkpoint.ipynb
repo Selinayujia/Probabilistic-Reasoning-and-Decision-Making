{
 "cells": [
  {
   "cell_type": "code",
   "execution_count": null,
   "id": "21818f84",
   "metadata": {},
   "outputs": [],
   "source": [
    "import random\n",
    "import math\n",
    "import matplotlib.pyplot as plt\n",
    "import numpy as np\n",
    "from sklearn.utils import shuffle\n",
    "from sklearn.metrics import accuracy_score\n"
   ]
  },
  {
   "cell_type": "code",
   "execution_count": null,
   "id": "4c6aad01",
   "metadata": {},
   "outputs": [],
   "source": [
    " files = ['train3.txt',\n",
    "train5file = 'train5.txt'\n",
    "test3file = 'test3.txt'\n",
    "test5file = 'test5.txt'"
   ]
  },
  {
   "cell_type": "code",
   "execution_count": null,
   "id": "9f317748",
   "metadata": {},
   "outputs": [],
   "source": [
    "def parseFile(filename):\n",
    "    contents = []\n",
    "    with open(filename) as f:\n",
    "        for line in f:\n",
    "            contents.append([int(item) for item in line.strip('\\n').split()])\n",
    "    return contents"
   ]
  },
  {
   "cell_type": "code",
   "execution_count": null,
   "id": "69f23322",
   "metadata": {},
   "outputs": [],
   "source": [
    "train3file = 'train3.txt'\n",
    "train5file = 'train5.txt'\n",
    "test3file = 'test3.txt'\n",
    "test5file = 'test5.txt'"
   ]
  },
  {
   "cell_type": "code",
   "execution_count": null,
   "id": "84993cfb",
   "metadata": {},
   "outputs": [],
   "source": [
    "train3 = parseFile(train3file)\n",
    "train5 = parseFile(train5file)\n",
    "test3 = parseFile(test3file)\n",
    "test5 = parseFile(test5file)"
   ]
  },
  {
   "cell_type": "code",
   "execution_count": null,
   "id": "6fa4e364",
   "metadata": {},
   "outputs": [],
   "source": [
    "ytrain3 = [0] * len(train3)\n",
    "ytrain5 = [1] * len(train5)\n",
    "ytest3 = [0] * len(test3)\n",
    "ytest5 = [1] * len(test5)\n",
    "\n",
    "train3.extend(train5)\n",
    "test3.extend(test5)\n",
    "ytrain3.extend(ytrain5)\n",
    "ytest3.extend(ytest5)\n",
    "\n",
    "x_train = train3\n",
    "x_test = test3\n",
    "y_train = ytrain3\n",
    "y_test = ytest3"
   ]
  },
  {
   "cell_type": "code",
   "execution_count": null,
   "id": "7da364f6",
   "metadata": {},
   "outputs": [],
   "source": [
    "def listToNparray(listOfList):\n",
    "    return np.array([np.array(xi) for xi in listOfList])"
   ]
  },
  {
   "cell_type": "code",
   "execution_count": null,
   "id": "7dab6946",
   "metadata": {},
   "outputs": [],
   "source": [
    "x_train = listToNparray(x_train)\n",
    "x_test = listToNparray(x_test)\n",
    "y_train = listToNparray(y_train)\n",
    "y_test = listToNparray(y_test)"
   ]
  },
  {
   "cell_type": "code",
   "execution_count": null,
   "id": "99681fdf",
   "metadata": {},
   "outputs": [],
   "source": [
    "x_train, y_train = shuffle(x_train, y_train, random_state=0)\n",
    "x_test, y_test = shuffle(x_test, y_test, random_state=0)"
   ]
  },
  {
   "cell_type": "code",
   "execution_count": null,
   "id": "bc672000",
   "metadata": {},
   "outputs": [],
   "source": [
    "def sigmoid(x):\n",
    "    return 1 / (1 + math.exp(-x))\n",
    "\n",
    "sigmoid_vec = np.vectorize(sigmoid)"
   ]
  },
  {
   "cell_type": "code",
   "execution_count": null,
   "id": "79ba32fb",
   "metadata": {},
   "outputs": [],
   "source": [
    "def gradient(y_data, x_data, w):\n",
    "    arr = y_data - sigmoid_vec(x_train.dot(w))\n",
    "    return np.sum((np.expand_dims(arr, axis=1) * x_data), axis=0)"
   ]
  },
  {
   "cell_type": "code",
   "execution_count": null,
   "id": "da18c733",
   "metadata": {},
   "outputs": [],
   "source": [
    "def logLikelihood(y_data, x_data, w):\n",
    "    vec_log = np.vectorize(math.log)\n",
    "    sigma = sigmoid_vec(x_data.dot(w))\n",
    "    return np.sum(y_data * vec_log(sigma) + ((1 - y_data) * vec_log(1 - sigma)), axis = 0)"
   ]
  },
  {
   "cell_type": "code",
   "execution_count": null,
   "id": "d0c0d52b",
   "metadata": {},
   "outputs": [],
   "source": [
    "def percentErrorRate(y_data, x_data, w):\n",
    "    sigma = sigmoid_vec(x_data.dot(w))\n",
    "    sigma[sigma >= 0.5] = 1\n",
    "    sigma[sigma < 0.5] = 0\n",
    "    return (1 - accuracy_score(y_data, sigma)) * 100"
   ]
  },
  {
   "cell_type": "code",
   "execution_count": null,
   "id": "68cbc9ee",
   "metadata": {},
   "outputs": [],
   "source": [
    "lr = 0.2/len(train3)\n",
    "w = np.array([random.random() for i in range(64)])"
   ]
  },
  {
   "cell_type": "code",
   "execution_count": null,
   "id": "b1151bc6",
   "metadata": {},
   "outputs": [],
   "source": [
    "likelihoods = []\n",
    "error_rates = []\n",
    "\n",
    "while(True):\n",
    "    error_rates.append(percentErrorRate(y_train, x_train, w))\n",
    "    likelihoods.append(logLikelihood(y_train, x_train, w))\n",
    "    new_w = w + (lr * gradient(y_train, x_train, w))\n",
    "    if np.sum(abs(new_w - w)) < 0.000001:\n",
    "        break\n",
    "    w = new_w"
   ]
  },
  {
   "cell_type": "code",
   "execution_count": null,
   "id": "614b465b",
   "metadata": {},
   "outputs": [],
   "source": [
    "plt.plot(likelihoods)\n",
    "plt.ylabel('log likelihood')\n",
    "plt.show()"
   ]
  },
  {
   "cell_type": "code",
   "execution_count": null,
   "id": "81fdca3c",
   "metadata": {},
   "outputs": [],
   "source": [
    "plt.plot(error_rates)\n",
    "plt.ylabel('Percent Error Rate')\n",
    "plt.show()"
   ]
  },
  {
   "cell_type": "code",
   "execution_count": null,
   "id": "f938c7dc",
   "metadata": {},
   "outputs": [],
   "source": [
    "\n",
    "print('Training Data:')\n",
    "print('Percent Error Rate: ', error_rates[-1])\n",
    "print('Log Likelihood: {}', likelihoods[-1])"
   ]
  },
  {
   "cell_type": "code",
   "execution_count": null,
   "id": "9afe767f",
   "metadata": {},
   "outputs": [],
   "source": [
    "w.reshape((8, 8))"
   ]
  },
  {
   "cell_type": "code",
   "execution_count": null,
   "id": "4dba8127",
   "metadata": {},
   "outputs": [],
   "source": [
    "print('Testing Data:')\n",
    "print('Percent Error Rate: ', percentErrorRate(y_test, x_test, w))\n",
    "print('Log Likelihood: ', logLikelihood(y_test, x_test, w))"
   ]
  }
 ],
 "metadata": {
  "kernelspec": {
   "display_name": "Python 3 (ipykernel)",
   "language": "python",
   "name": "python3"
  },
  "language_info": {
   "codemirror_mode": {
    "name": "ipython",
    "version": 3
   },
   "file_extension": ".py",
   "mimetype": "text/x-python",
   "name": "python",
   "nbconvert_exporter": "python",
   "pygments_lexer": "ipython3",
   "version": "3.9.12"
  }
 },
 "nbformat": 4,
 "nbformat_minor": 5
}
