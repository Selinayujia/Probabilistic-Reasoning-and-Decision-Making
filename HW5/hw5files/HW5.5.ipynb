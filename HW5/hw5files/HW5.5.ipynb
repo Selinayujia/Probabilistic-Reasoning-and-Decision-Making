{
 "cells": [
  {
   "cell_type": "code",
   "execution_count": 191,
   "id": "21818f84",
   "metadata": {},
   "outputs": [],
   "source": [
    "import random\n",
    "import math\n",
    "import numpy as np___"
   ]
  },
  {
   "cell_type": "code",
   "execution_count": 204,
   "id": "9f317748",
   "metadata": {},
   "outputs": [],
   "source": [
    "files = ['train3.txt', 'train5.txt', 'test3.txt', 'test5.txt']\n",
    "def parse_data(files):\n",
    "    res = []\n",
    "    for file in files:\n",
    "        data = []\n",
    "        f = open(file, 'r')\n",
    "        for line in f:\n",
    "            data.append([int(num) for num in line.strip('\\n').split()])\n",
    "        f.close()\n",
    "        res.append(data)\n",
    "    return res\n",
    "\n",
    "xtrain3, xtrain5, xtest3, xtest5 = parse_data(files)"
   ]
  },
  {
   "cell_type": "code",
   "execution_count": 205,
   "id": "1e23a48e",
   "metadata": {},
   "outputs": [],
   "source": [
    "def shuffle_train_test_data(lst3, lst5):\n",
    "    x = lst3 + lst5\n",
    "    y = [0]*len(lst3) + [1]*len(lst5)\n",
    "    \n",
    "    pair = list(zip(x,y))\n",
    "    random.shuffle(pair)\n",
    "    x, y = zip(*pair)\n",
    "    return np.array(x), np.array(y)\n",
    "    \n",
    "xtrain, ytrain = shuffle_train_test_data(xtrain3, xtrain5)\n",
    "xtest, ytest = shuffle_train_test_data(xtest3, xtest5)"
   ]
  },
  {
   "cell_type": "code",
   "execution_count": 206,
   "id": "bc672000",
   "metadata": {},
   "outputs": [],
   "source": [
    "def sigmoid(wxs):\n",
    "    return np.array([1 / (1 + math.exp(-wx)) for wx in wxs])"
   ]
  },
  {
   "cell_type": "code",
   "execution_count": 208,
   "id": "da18c733",
   "metadata": {},
   "outputs": [],
   "source": [
    "def log_likelihood(y, x, w):\n",
    "    probabilities = sigmoid(x.dot(w))\n",
    "    return np.sum([y[i] * math.log(probabilities[i]) + \\\n",
    "                   ((1 - y[i]) * math.log(1 - probabilities[i])) for i in range(len(y))])"
   ]
  },
  {
   "cell_type": "code",
   "execution_count": 209,
   "id": "87d3d850",
   "metadata": {},
   "outputs": [],
   "source": [
    "def percent_error_rate(y, x, w):\n",
    "    xws= x.dot(w)\n",
    "    probabilities = sigmoid(xws)\n",
    "    predictions = [1 if p >= 0.5 else 0 for p in probabilities]\n",
    "    \n",
    "    TP = sum(np.logical_and(predictions, y))\n",
    "    FP = sum(np.logical_and(predictions, np.logical_not(y)))\n",
    "    TN = sum(np.logical_and(np.logical_not(predictions), np.logical_not(y)))\n",
    "    FN = sum(np.logical_and(np.logical_not(predictions), y))\n",
    "\n",
    "    return ((FP + FN) / (TP + FP + TN + FN)) * 100"
   ]
  },
  {
   "cell_type": "code",
   "execution_count": 207,
   "id": "141de932",
   "metadata": {},
   "outputs": [],
   "source": [
    "def gradient(y, x, w):\n",
    "    lst = y - sigmoid(x.dot(w))\n",
    "    return np.sum((np.expand_dims(lst, axis=1) * x), axis=0)"
   ]
  },
  {
   "cell_type": "code",
   "execution_count": 210,
   "id": "79ba32fb",
   "metadata": {},
   "outputs": [],
   "source": [
    "def hessian(x, w):\n",
    "    xws = np.dot(x, w)\n",
    "    xneg_ws = np.dot(x, -w)\n",
    "    sigmoid_xw = sigmoid(xws)\n",
    "    sigmoid_neg_xw = sigmoid(xneg_ws)\n",
    "    sigmoid_values = (sigmoid_xw * sigmoid_neg_xw)\n",
    "    matrix = x.T.dot(x)\n",
    "    mats = [s* matrix for s in sigmoid_values ]\n",
    "    res = -np.sum(mats, axis = 0)\n",
    "    return res"
   ]
  },
  {
   "cell_type": "code",
   "execution_count": 211,
   "id": "b1151bc6",
   "metadata": {},
   "outputs": [
    {
     "name": "stdout",
     "output_type": "stream",
     "text": [
      "True\n"
     ]
    }
   ],
   "source": [
    "from numpy.linalg import inv\n",
    "w = np.array([0 for i in range(64)])   \n",
    "likelihoods = []\n",
    "error_rates = []\n",
    "i = 0\n",
    "laps = 100000\n",
    "flag = False\n",
    "lr = 0.2/len(xtrain3)\n",
    "while i != laps:\n",
    "    error_rates.append(percent_error_rate(ytrain, xtrain, w))\n",
    "    likelihoods.append(log_likelihood(ytrain, xtrain, w))\n",
    "    new_w = w - (inv(hessian(xtrain, w)).dot(gradient(ytrain, xtrain, w)))\n",
    "    unstable_rate = np.sum(abs(new_w - w)) \n",
    "    if unstable_rate < 0.00001:\n",
    "        flag = True\n",
    "    w = new_w\n",
    "    i += 1\n",
    "print(flag)"
   ]
  },
  {
   "cell_type": "code",
   "execution_count": 219,
   "id": "614b465b",
   "metadata": {},
   "outputs": [
    {
     "data": {
      "image/png": "[encoded data removed]",
      "text/plain": [
       "<Figure size 432x288 with 1 Axes>"
      ]
     },
     "metadata": {
      "needs_background": "light"
     },
     "output_type": "display_data"
    }
   ],
   "source": [
    "import matplotlib.pyplot as plt\n",
    "plt.plot(likelihoods)\n",
    "plt.ylabel('log likelihood')\n",
    "plt.show()"
   ]
  },
  {
   "cell_type": "code",
   "execution_count": 220,
   "id": "81fdca3c",
   "metadata": {},
   "outputs": [
    {
     "data": {
      "image/png": "[encoded data removed]",
      "text/plain": [
       "<Figure size 432x288 with 1 Axes>"
      ]
     },
     "metadata": {
      "needs_background": "light"
     },
     "output_type": "display_data"
    }
   ],
   "source": [
    "plt.plot(error_rates)\n",
    "plt.ylabel('Percent error rate')\n",
    "plt.show()"
   ]
  },
  {
   "cell_type": "code",
   "execution_count": 221,
   "id": "f938c7dc",
   "metadata": {},
   "outputs": [
    {
     "name": "stdout",
     "output_type": "stream",
     "text": [
      "Training set:\n",
      "Percent error rate:  3.785714285714286\n",
      "Log likelihood: -160.69814815107603\n"
     ]
    }
   ],
   "source": [
    "print('Training set:')\n",
    "print('Percent error rate: ', error_rates[-1])\n",
    "print('Log likelihood:', likelihoods[-1])"
   ]
  },
  {
   "cell_type": "code",
   "execution_count": 222,
   "id": "9afe767f",
   "metadata": {},
   "outputs": [
    {
     "data": {
      "text/plain": [
       "array([[-0.70057501, -1.77271155, -1.09274556, -1.54546654, -0.61218004,\n",
       "        -1.18725509,  0.80232358,  1.96583364],\n",
       "       [-0.30175903, -0.27097233,  0.33413686, -0.03534105, -0.69379691,\n",
       "         0.99823062, -1.4893718 , -1.50412454],\n",
       "       [ 4.50569297,  1.38875869,  1.61855154,  0.09832064,  1.0263743 ,\n",
       "        -2.45881789, -2.45884311, -2.92812516],\n",
       "       [ 0.74765373,  0.36246313,  0.78738491, -0.36221933, -0.52984011,\n",
       "        -2.79251022,  0.53198913, -0.06437286],\n",
       "       [ 0.66238577,  1.32323881,  0.11021316, -0.47892754, -0.62789355,\n",
       "        -0.03120808, -0.66854084, -0.06542244],\n",
       "       [ 1.33431475, -0.29794494, -0.45579334, -0.22093484, -0.05175143,\n",
       "        -1.16184154,  1.02975744, -1.88373429],\n",
       "       [ 1.74577439, -0.77759437,  1.41996249,  0.73329063,  0.53727973,\n",
       "        -0.47067696,  0.12279395, -1.75409747],\n",
       "       [ 0.74040218,  0.35778161,  0.77862666,  2.70277385,  0.42920666,\n",
       "         0.7495536 ,  0.98244034, -0.62956044]])"
      ]
     },
     "execution_count": 222,
     "metadata": {},
     "output_type": "execute_result"
    }
   ],
   "source": [
    "w.reshape((8, 8))"
   ]
  },
  {
   "cell_type": "code",
   "execution_count": 218,
   "id": "4dba8127",
   "metadata": {},
   "outputs": [
    {
     "name": "stdout",
     "output_type": "stream",
     "text": [
      "Testing Data:\n",
      "Percent Error Rate:  6.625\n",
      "Log Likelihood:  -126.7971008281362\n"
     ]
    }
   ],
   "source": [
    "print('Testing set:')\n",
    "print('Percent error rate: ', percent_error_rate(ytest, xtest, w))\n",
    "print('Log likelihood: ', log_likelihood(ytest, xtest, w))"
   ]
  }
 ],
 "metadata": {
  "kernelspec": {
   "display_name": "Python 3 (ipykernel)",
   "language": "python",
   "name": "python3"
  },
  "language_info": {
   "codemirror_mode": {
    "name": "ipython",
    "version": 3
   },
   "file_extension": ".py",
   "mimetype": "text/x-python",
   "name": "python",
   "nbconvert_exporter": "python",
   "pygments_lexer": "ipython3",
   "version": "3.9.12"
  }
 },
 "nbformat": 4,
 "nbformat_minor": 5
}
