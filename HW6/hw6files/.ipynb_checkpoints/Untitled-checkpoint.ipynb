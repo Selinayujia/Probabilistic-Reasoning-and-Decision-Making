{
 "cells": [
  {
   "cell_type": "code",
   "execution_count": 24,
   "id": "b9025b1b",
   "metadata": {},
   "outputs": [
    {
     "data": {
      "image/png": "[encoded data removed]",
      "text/plain": [
       "<Figure size 432x288 with 1 Axes>"
      ]
     },
     "metadata": {
      "needs_background": "light"
     },
     "output_type": "display_data"
    }
   ],
   "source": [
    "import matplotlib.pyplot as plt\n",
    "import numpy as np\n",
    "import math\n",
    "\n",
    "x1 = [i for i in range(-5, 6)]\n",
    "y1 = [math.log(math.cosh(i)) for i in x1]\n",
    "\n",
    "y2 = [math.log(math.cosh(-2))+math.tanh(-2)*(i+2)+ 0.5*(i+2)**2 for i in x1]\n",
    "y3 = [math.log(math.cosh(3))+math.tanh(3)*(i-3)+ 0.5*(i-3)**2 for i in x1]\n",
    "\n",
    "plt.plot(x1, y1, label=\"fx\")\n",
    "plt.plot(x1, y2, label=\"Qx,-2\")\n",
    "plt.plot(x1, y3, label=\"Qx3\")\n",
    "plt.legend()\n",
    "\n",
    "# show the plot\n",
    "plt.show()\n",
    "\n",
    "\n"
   ]
  },
  {
   "cell_type": "code",
   "execution_count": 1,
   "id": "4b859c79",
   "metadata": {},
   "outputs": [],
   "source": [
    "import numpy as np"
   ]
  },
  {
   "cell_type": "code",
   "execution_count": 2,
   "id": "bb7ea6e8",
   "metadata": {},
   "outputs": [],
   "source": [
    "\n",
    "spectX_f = 'X.txt'\n",
    "spectY_f = 'Y.txt'\n",
    "X = np.loadtxt(spectX_f, dtype=int)\n",
    "Y = np.loadtxt(spectY_f, dtype=int)"
   ]
  },
  {
   "cell_type": "code",
   "execution_count": 3,
   "id": "29352085",
   "metadata": {},
   "outputs": [],
   "source": [
    "\n",
    "p = np.ones((23,1)) * 0.05"
   ]
  },
  {
   "cell_type": "code",
   "execution_count": 4,
   "id": "66d339c5",
   "metadata": {},
   "outputs": [],
   "source": [
    "# compute the negative of the log likelihood\n",
    "def c_loss(p,X,Y):\n",
    "    temp = X.dot(np.log(1-p))\n",
    "    return -1 / X.shape[0] * np.sum(Y[:,np.newaxis] * np.log(1-np.exp(temp)) + (1-Y[:,np.newaxis]) * temp)\n"
   ]
  },
  {
   "cell_type": "code",
   "execution_count": 5,
   "id": "b6118aea",
   "metadata": {},
   "outputs": [],
   "source": [
    "# EM update for the parameter pi\n",
    "def M_update(p,X,Y):\n",
    "    temp0 = X.dot(np.log(1-p))\n",
    "    temp1 = (X.T * p).T * Y[:,np.newaxis] / (1 - np.exp(temp0))\n",
    "    p_new = (np.sum(temp1,axis = 0) / np.sum(X,axis = 0))[:,np.newaxis]\n",
    "    return p_new"
   ]
  },
  {
   "cell_type": "code",
   "execution_count": 6,
   "id": "7ed5832f",
   "metadata": {},
   "outputs": [],
   "source": [
    "# compute the number of mistakes made for every iteration\n",
    "def predict(p,X,Y):\n",
    "    temp = X.dot(np.log(1-p))\n",
    "    y_prob = 1 - np.exp(temp)\n",
    "    y_pred = np.where(y_prob >= 0.5,1,0)\n",
    "    return np.sum(np.abs(y_pred - Y[:,np.newaxis]))"
   ]
  },
  {
   "cell_type": "code",
   "execution_count": 7,
   "id": "f110cf5a",
   "metadata": {},
   "outputs": [],
   "source": [
    "# inital loss and initial prediction\n",
    "initial_loss = c_loss(p,X,Y)\n",
    "initial_error = predict(p,X,Y)\n",
    "loss_list,error_list = [initial_loss],[initial_error]"
   ]
  },
  {
   "cell_type": "code",
   "execution_count": 8,
   "id": "0558d818",
   "metadata": {},
   "outputs": [
    {
     "name": "stdout",
     "output_type": "stream",
     "text": [
      "iteration 0\tnumber of mistiakes 175\tloss -0.95809\n",
      "iteration 1\tnumber of mistiakes 56\tloss -0.49592\n",
      "iteration 2\tnumber of mistiakes 43\tloss -0.40822\n",
      "iteration 4\tnumber of mistiakes 42\tloss -0.36461\n",
      "iteration 8\tnumber of mistiakes 44\tloss -0.34750\n",
      "iteration 16\tnumber of mistiakes 40\tloss -0.33462\n",
      "iteration 32\tnumber of mistiakes 37\tloss -0.32258\n",
      "iteration 64\tnumber of mistiakes 37\tloss -0.31483\n",
      "iteration 128\tnumber of mistiakes 36\tloss -0.31116\n",
      "iteration 256\tnumber of mistiakes 36\tloss -0.31016\n"
     ]
    }
   ],
   "source": [
    "# learning steps\n",
    "print(\"iteration 0\\tnumber of mistiakes %d\\tloss %.5f\"%(initial_error,-initial_loss))\n",
    "import math\n",
    "max_iteration = 256\n",
    "for i in range(1,max_iteration+1):\n",
    "    p = M_update(p,X,Y)\n",
    "    error = predict(p,X,Y)\n",
    "    loss = c_loss(p,X,Y)\n",
    "    error_list.append(error)\n",
    "    loss_list.append(loss)\n",
    "    if math.log(i, 2).is_integer():\n",
    "        print(\"iteration %d\\tnumber of mistiakes %d\\tloss %.5f\"%(i,error,-loss))"
   ]
  }
 ],
 "metadata": {
  "kernelspec": {
   "display_name": "Python 3 (ipykernel)",
   "language": "python",
   "name": "python3"
  },
  "language_info": {
   "codemirror_mode": {
    "name": "ipython",
    "version": 3
   },
   "file_extension": ".py",
   "mimetype": "text/x-python",
   "name": "python",
   "nbconvert_exporter": "python",
   "pygments_lexer": "ipython3",
   "version": "3.9.12"
  }
 },
 "nbformat": 4,
 "nbformat_minor": 5
}
